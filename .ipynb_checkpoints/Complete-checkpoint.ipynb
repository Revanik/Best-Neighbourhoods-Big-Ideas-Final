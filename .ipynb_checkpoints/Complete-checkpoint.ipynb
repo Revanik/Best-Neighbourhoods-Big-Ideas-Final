{
 "cells": [
  {
   "cell_type": "markdown",
   "id": "cd362cd4-5ead-4e99-a9a5-67996bcf942f",
   "metadata": {},
   "source": [
    "# **Introduction**\n",
    "Introduce the project, and your approach, talk about the process of how you came up with the metric and some alternatives you may have explored.\n",
    "// TODO"
   ]
  },
  {
   "cell_type": "markdown",
   "id": "18a818d7-3761-499b-83c5-b51185aa57e4",
   "metadata": {},
   "source": [
    "## **Metric**\n",
    "Describe your metric, and what features are you measuring. What datasets are you using?\n",
    "// TODO"
   ]
  },
  {
   "cell_type": "markdown",
   "id": "6196863e-73d0-42d6-8f7c-b1463ace20e7",
   "metadata": {
    "jp-MarkdownHeadingCollapsed": true
   },
   "source": [
    "## **The Best Neighbourhood**\n",
    "Apply the metric from the previous section to determine the best neighborhood in Pittsburgh. Beyond just executing code, provide a narrative about why you think this is the best neighborhood. Incorporate a data visualization, perhaps to rank all of the neighborhoods or show a neighborhood’s best-ness over time. The key is to make a data driven argument.\n",
    "// TODO"
   ]
  },
  {
   "cell_type": "markdown",
   "id": "79fa8b72-f7d2-4d73-b47d-694087d404a5",
   "metadata": {},
   "source": [
    "## **Conclusion**\n",
    "Reflect on how the data-driven determination of “best neighborhood” is the same or different from your personal favorite neighborhood. Each member of the group should write their own response to this.\n",
    "// TODO"
   ]
  }
 ],
 "metadata": {
  "kernelspec": {
   "display_name": "Python 3 (ipykernel)",
   "language": "python",
   "name": "python3"
  },
  "language_info": {
   "codemirror_mode": {
    "name": "ipython",
    "version": 3
   },
   "file_extension": ".py",
   "mimetype": "text/x-python",
   "name": "python",
   "nbconvert_exporter": "python",
   "pygments_lexer": "ipython3",
   "version": "3.12.4"
  }
 },
 "nbformat": 4,
 "nbformat_minor": 5
}
